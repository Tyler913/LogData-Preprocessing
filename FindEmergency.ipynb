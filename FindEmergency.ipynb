{
 "cells": [
  {
   "cell_type": "code",
   "execution_count": 1,
   "metadata": {},
   "outputs": [],
   "source": [
    "import pandas as pd"
   ]
  },
  {
   "cell_type": "code",
   "execution_count": 2,
   "metadata": {},
   "outputs": [],
   "source": [
    "value = pd.read_csv('/Users/tyler/Desktop/Development/smart/finalCSV.csv')"
   ]
  },
  {
   "cell_type": "code",
   "execution_count": 3,
   "metadata": {},
   "outputs": [
    {
     "data": {
      "text/html": [
       "<div>\n",
       "<style scoped>\n",
       "    .dataframe tbody tr th:only-of-type {\n",
       "        vertical-align: middle;\n",
       "    }\n",
       "\n",
       "    .dataframe tbody tr th {\n",
       "        vertical-align: top;\n",
       "    }\n",
       "\n",
       "    .dataframe thead th {\n",
       "        text-align: right;\n",
       "    }\n",
       "</style>\n",
       "<table border=\"1\" class=\"dataframe\">\n",
       "  <thead>\n",
       "    <tr style=\"text-align: right;\">\n",
       "      <th></th>\n",
       "      <th>07-03</th>\n",
       "      <th>12:17:20.393</th>\n",
       "      <th>1297</th>\n",
       "      <th>2403</th>\n",
       "      <th>D</th>\n",
       "      <th>PowerManagerService</th>\n",
       "      <th>updateDisplayPowerStateLocked: mDisplayReady=true, policy=3, mWakefulness=1, mWakeLockSummary=0x25, mUserActivitySummary=0x1, mBootCompleted=true, screenBrightnessOverride=-1, useAutoBrightness=false, mScreenBrightnessBoostInProgress=false, mIsVrModeEnabled= false, sQuiescent=false</th>\n",
       "    </tr>\n",
       "  </thead>\n",
       "  <tbody>\n",
       "    <tr>\n",
       "      <th>0</th>\n",
       "      <td>07-03</td>\n",
       "      <td>12:17:20.393</td>\n",
       "      <td>1297.0</td>\n",
       "      <td>2403</td>\n",
       "      <td>D</td>\n",
       "      <td>PowerManagerService</td>\n",
       "      <td>updateSuspendBlockerLocked needWakeLockSuspend...</td>\n",
       "    </tr>\n",
       "    <tr>\n",
       "      <th>1</th>\n",
       "      <td>07-03</td>\n",
       "      <td>12:17:20.453</td>\n",
       "      <td>1297.0</td>\n",
       "      <td>1449</td>\n",
       "      <td>I</td>\n",
       "      <td>liblog</td>\n",
       "      <td>24</td>\n",
       "    </tr>\n",
       "    <tr>\n",
       "      <th>2</th>\n",
       "      <td>07-03</td>\n",
       "      <td>12:17:20.473</td>\n",
       "      <td>1297.0</td>\n",
       "      <td>1449</td>\n",
       "      <td>I</td>\n",
       "      <td>liblog</td>\n",
       "      <td>6</td>\n",
       "    </tr>\n",
       "    <tr>\n",
       "      <th>3</th>\n",
       "      <td>07-03</td>\n",
       "      <td>12:17:20.589</td>\n",
       "      <td>1297.0</td>\n",
       "      <td>2009</td>\n",
       "      <td>E</td>\n",
       "      <td>PackageManager</td>\n",
       "      <td>queryIntentServicesInternal callingUid = 1000;...</td>\n",
       "    </tr>\n",
       "    <tr>\n",
       "      <th>4</th>\n",
       "      <td>07-03</td>\n",
       "      <td>12:17:20.589</td>\n",
       "      <td>1297.0</td>\n",
       "      <td>2009</td>\n",
       "      <td>W</td>\n",
       "      <td>ActivityManager</td>\n",
       "      <td>Unable to start service Intent { cmp=com.ts.an...</td>\n",
       "    </tr>\n",
       "    <tr>\n",
       "      <th>5</th>\n",
       "      <td>07-03</td>\n",
       "      <td>12:17:20.589</td>\n",
       "      <td>1297.0</td>\n",
       "      <td>2009</td>\n",
       "      <td>E</td>\n",
       "      <td>ActivityManager</td>\n",
       "      <td>retrieveServiceLocked res null; callingecarx.l...</td>\n",
       "    </tr>\n",
       "    <tr>\n",
       "      <th>6</th>\n",
       "      <td>07-03</td>\n",
       "      <td>12:17:20.634</td>\n",
       "      <td>1297.0</td>\n",
       "      <td>1449</td>\n",
       "      <td>I</td>\n",
       "      <td>liblog</td>\n",
       "      <td>10</td>\n",
       "    </tr>\n",
       "    <tr>\n",
       "      <th>7</th>\n",
       "      <td>07-03</td>\n",
       "      <td>12:17:20.653</td>\n",
       "      <td>1297.0</td>\n",
       "      <td>1449</td>\n",
       "      <td>I</td>\n",
       "      <td>liblog</td>\n",
       "      <td>5</td>\n",
       "    </tr>\n",
       "    <tr>\n",
       "      <th>8</th>\n",
       "      <td>07-03</td>\n",
       "      <td>12:17:20.693</td>\n",
       "      <td>1297.0</td>\n",
       "      <td>1449</td>\n",
       "      <td>I</td>\n",
       "      <td>liblog</td>\n",
       "      <td>10</td>\n",
       "    </tr>\n",
       "    <tr>\n",
       "      <th>9</th>\n",
       "      <td>07-03</td>\n",
       "      <td>12:17:20.775</td>\n",
       "      <td>1297.0</td>\n",
       "      <td>1449</td>\n",
       "      <td>I</td>\n",
       "      <td>liblog</td>\n",
       "      <td>30</td>\n",
       "    </tr>\n",
       "  </tbody>\n",
       "</table>\n",
       "</div>"
      ],
      "text/plain": [
       "   07-03  12:17:20.393    1297  2403  D  PowerManagerService  \\\n",
       "0  07-03  12:17:20.393  1297.0  2403  D  PowerManagerService   \n",
       "1  07-03  12:17:20.453  1297.0  1449  I              liblog    \n",
       "2  07-03  12:17:20.473  1297.0  1449  I              liblog    \n",
       "3  07-03  12:17:20.589  1297.0  2009  E       PackageManager   \n",
       "4  07-03  12:17:20.589  1297.0  2009  W      ActivityManager   \n",
       "5  07-03  12:17:20.589  1297.0  2009  E      ActivityManager   \n",
       "6  07-03  12:17:20.634  1297.0  1449  I              liblog    \n",
       "7  07-03  12:17:20.653  1297.0  1449  I              liblog    \n",
       "8  07-03  12:17:20.693  1297.0  1449  I              liblog    \n",
       "9  07-03  12:17:20.775  1297.0  1449  I              liblog    \n",
       "\n",
       "  updateDisplayPowerStateLocked: mDisplayReady=true, policy=3, mWakefulness=1, mWakeLockSummary=0x25, mUserActivitySummary=0x1, mBootCompleted=true, screenBrightnessOverride=-1, useAutoBrightness=false, mScreenBrightnessBoostInProgress=false, mIsVrModeEnabled= false, sQuiescent=false  \n",
       "0  updateSuspendBlockerLocked needWakeLockSuspend...                                                                                                                                                                                                                                          \n",
       "1                                                 24                                                                                                                                                                                                                                          \n",
       "2                                                  6                                                                                                                                                                                                                                          \n",
       "3  queryIntentServicesInternal callingUid = 1000;...                                                                                                                                                                                                                                          \n",
       "4  Unable to start service Intent { cmp=com.ts.an...                                                                                                                                                                                                                                          \n",
       "5  retrieveServiceLocked res null; callingecarx.l...                                                                                                                                                                                                                                          \n",
       "6                                                 10                                                                                                                                                                                                                                          \n",
       "7                                                  5                                                                                                                                                                                                                                          \n",
       "8                                                 10                                                                                                                                                                                                                                          \n",
       "9                                                 30                                                                                                                                                                                                                                          "
      ]
     },
     "execution_count": 3,
     "metadata": {},
     "output_type": "execute_result"
    }
   ],
   "source": [
    "value.head(10)"
   ]
  },
  {
   "cell_type": "code",
   "execution_count": 4,
   "metadata": {},
   "outputs": [],
   "source": [
    "value.columns = [\"date\", \"time\", \"PID\", \"process\", \"sign\", \"type\", \"description\"]"
   ]
  },
  {
   "cell_type": "code",
   "execution_count": 5,
   "metadata": {},
   "outputs": [
    {
     "data": {
      "text/html": [
       "<div>\n",
       "<style scoped>\n",
       "    .dataframe tbody tr th:only-of-type {\n",
       "        vertical-align: middle;\n",
       "    }\n",
       "\n",
       "    .dataframe tbody tr th {\n",
       "        vertical-align: top;\n",
       "    }\n",
       "\n",
       "    .dataframe thead th {\n",
       "        text-align: right;\n",
       "    }\n",
       "</style>\n",
       "<table border=\"1\" class=\"dataframe\">\n",
       "  <thead>\n",
       "    <tr style=\"text-align: right;\">\n",
       "      <th></th>\n",
       "      <th>date</th>\n",
       "      <th>time</th>\n",
       "      <th>PID</th>\n",
       "      <th>process</th>\n",
       "      <th>sign</th>\n",
       "      <th>type</th>\n",
       "      <th>description</th>\n",
       "    </tr>\n",
       "  </thead>\n",
       "  <tbody>\n",
       "    <tr>\n",
       "      <th>0</th>\n",
       "      <td>07-03</td>\n",
       "      <td>12:17:20.393</td>\n",
       "      <td>1297.0</td>\n",
       "      <td>2403</td>\n",
       "      <td>D</td>\n",
       "      <td>PowerManagerService</td>\n",
       "      <td>updateSuspendBlockerLocked needWakeLockSuspend...</td>\n",
       "    </tr>\n",
       "    <tr>\n",
       "      <th>1</th>\n",
       "      <td>07-03</td>\n",
       "      <td>12:17:20.453</td>\n",
       "      <td>1297.0</td>\n",
       "      <td>1449</td>\n",
       "      <td>I</td>\n",
       "      <td>liblog</td>\n",
       "      <td>24</td>\n",
       "    </tr>\n",
       "    <tr>\n",
       "      <th>2</th>\n",
       "      <td>07-03</td>\n",
       "      <td>12:17:20.473</td>\n",
       "      <td>1297.0</td>\n",
       "      <td>1449</td>\n",
       "      <td>I</td>\n",
       "      <td>liblog</td>\n",
       "      <td>6</td>\n",
       "    </tr>\n",
       "    <tr>\n",
       "      <th>3</th>\n",
       "      <td>07-03</td>\n",
       "      <td>12:17:20.589</td>\n",
       "      <td>1297.0</td>\n",
       "      <td>2009</td>\n",
       "      <td>E</td>\n",
       "      <td>PackageManager</td>\n",
       "      <td>queryIntentServicesInternal callingUid = 1000;...</td>\n",
       "    </tr>\n",
       "    <tr>\n",
       "      <th>4</th>\n",
       "      <td>07-03</td>\n",
       "      <td>12:17:20.589</td>\n",
       "      <td>1297.0</td>\n",
       "      <td>2009</td>\n",
       "      <td>W</td>\n",
       "      <td>ActivityManager</td>\n",
       "      <td>Unable to start service Intent { cmp=com.ts.an...</td>\n",
       "    </tr>\n",
       "    <tr>\n",
       "      <th>5</th>\n",
       "      <td>07-03</td>\n",
       "      <td>12:17:20.589</td>\n",
       "      <td>1297.0</td>\n",
       "      <td>2009</td>\n",
       "      <td>E</td>\n",
       "      <td>ActivityManager</td>\n",
       "      <td>retrieveServiceLocked res null; callingecarx.l...</td>\n",
       "    </tr>\n",
       "    <tr>\n",
       "      <th>6</th>\n",
       "      <td>07-03</td>\n",
       "      <td>12:17:20.634</td>\n",
       "      <td>1297.0</td>\n",
       "      <td>1449</td>\n",
       "      <td>I</td>\n",
       "      <td>liblog</td>\n",
       "      <td>10</td>\n",
       "    </tr>\n",
       "    <tr>\n",
       "      <th>7</th>\n",
       "      <td>07-03</td>\n",
       "      <td>12:17:20.653</td>\n",
       "      <td>1297.0</td>\n",
       "      <td>1449</td>\n",
       "      <td>I</td>\n",
       "      <td>liblog</td>\n",
       "      <td>5</td>\n",
       "    </tr>\n",
       "    <tr>\n",
       "      <th>8</th>\n",
       "      <td>07-03</td>\n",
       "      <td>12:17:20.693</td>\n",
       "      <td>1297.0</td>\n",
       "      <td>1449</td>\n",
       "      <td>I</td>\n",
       "      <td>liblog</td>\n",
       "      <td>10</td>\n",
       "    </tr>\n",
       "    <tr>\n",
       "      <th>9</th>\n",
       "      <td>07-03</td>\n",
       "      <td>12:17:20.775</td>\n",
       "      <td>1297.0</td>\n",
       "      <td>1449</td>\n",
       "      <td>I</td>\n",
       "      <td>liblog</td>\n",
       "      <td>30</td>\n",
       "    </tr>\n",
       "  </tbody>\n",
       "</table>\n",
       "</div>"
      ],
      "text/plain": [
       "    date          time     PID  process sign                 type  \\\n",
       "0  07-03  12:17:20.393  1297.0     2403    D  PowerManagerService   \n",
       "1  07-03  12:17:20.453  1297.0     1449    I              liblog    \n",
       "2  07-03  12:17:20.473  1297.0     1449    I              liblog    \n",
       "3  07-03  12:17:20.589  1297.0     2009    E       PackageManager   \n",
       "4  07-03  12:17:20.589  1297.0     2009    W      ActivityManager   \n",
       "5  07-03  12:17:20.589  1297.0     2009    E      ActivityManager   \n",
       "6  07-03  12:17:20.634  1297.0     1449    I              liblog    \n",
       "7  07-03  12:17:20.653  1297.0     1449    I              liblog    \n",
       "8  07-03  12:17:20.693  1297.0     1449    I              liblog    \n",
       "9  07-03  12:17:20.775  1297.0     1449    I              liblog    \n",
       "\n",
       "                                         description  \n",
       "0  updateSuspendBlockerLocked needWakeLockSuspend...  \n",
       "1                                                 24  \n",
       "2                                                  6  \n",
       "3  queryIntentServicesInternal callingUid = 1000;...  \n",
       "4  Unable to start service Intent { cmp=com.ts.an...  \n",
       "5  retrieveServiceLocked res null; callingecarx.l...  \n",
       "6                                                 10  \n",
       "7                                                  5  \n",
       "8                                                 10  \n",
       "9                                                 30  "
      ]
     },
     "execution_count": 5,
     "metadata": {},
     "output_type": "execute_result"
    }
   ],
   "source": [
    "value.head(10)"
   ]
  },
  {
   "cell_type": "code",
   "execution_count": 7,
   "metadata": {},
   "outputs": [
    {
     "data": {
      "text/plain": [
       "(4018654, 7)"
      ]
     },
     "execution_count": 7,
     "metadata": {},
     "output_type": "execute_result"
    }
   ],
   "source": [
    "value.shape"
   ]
  },
  {
   "cell_type": "code",
   "execution_count": 8,
   "metadata": {},
   "outputs": [
    {
     "name": "stdout",
     "output_type": "stream",
     "text": [
      "<class 'pandas.core.frame.DataFrame'>\n",
      "RangeIndex: 4018654 entries, 0 to 4018653\n",
      "Data columns (total 7 columns):\n",
      " #   Column       Dtype  \n",
      "---  ------       -----  \n",
      " 0   date         object \n",
      " 1   time         object \n",
      " 2   PID          float64\n",
      " 3   process      int64  \n",
      " 4   sign         object \n",
      " 5   type         object \n",
      " 6   description  object \n",
      "dtypes: float64(1), int64(1), object(5)\n",
      "memory usage: 214.6+ MB\n"
     ]
    }
   ],
   "source": [
    "value.info()"
   ]
  },
  {
   "cell_type": "code",
   "execution_count": 55,
   "metadata": {},
   "outputs": [
    {
     "data": {
      "text/plain": [
       "'E'"
      ]
     },
     "execution_count": 55,
     "metadata": {},
     "output_type": "execute_result"
    }
   ],
   "source": [
    "value.iloc[3, 4]"
   ]
  },
  {
   "cell_type": "code",
   "execution_count": 36,
   "metadata": {},
   "outputs": [
    {
     "data": {
      "text/plain": [
       "date                  07-03\n",
       "time           12:17:20.865\n",
       "PID                  1297.0\n",
       "process                1449\n",
       "sign                      I\n",
       "type                liblog \n",
       "description              20\n",
       "Name: 10, dtype: object"
      ]
     },
     "execution_count": 36,
     "metadata": {},
     "output_type": "execute_result"
    }
   ],
   "source": [
    "value.iloc[10][:]"
   ]
  },
  {
   "cell_type": "code",
   "execution_count": 56,
   "metadata": {},
   "outputs": [],
   "source": [
    "len_csv = value.shape[0]"
   ]
  },
  {
   "cell_type": "code",
   "execution_count": 66,
   "metadata": {},
   "outputs": [],
   "source": [
    "test = pd.read_csv('/Users/tyler/Desktop/Development/smart/finalCSV.csv', skiprows=3, nrows=1)"
   ]
  },
  {
   "cell_type": "code",
   "execution_count": 67,
   "metadata": {},
   "outputs": [
    {
     "data": {
      "text/html": [
       "<div>\n",
       "<style scoped>\n",
       "    .dataframe tbody tr th:only-of-type {\n",
       "        vertical-align: middle;\n",
       "    }\n",
       "\n",
       "    .dataframe tbody tr th {\n",
       "        vertical-align: top;\n",
       "    }\n",
       "\n",
       "    .dataframe thead th {\n",
       "        text-align: right;\n",
       "    }\n",
       "</style>\n",
       "<table border=\"1\" class=\"dataframe\">\n",
       "  <thead>\n",
       "    <tr style=\"text-align: right;\">\n",
       "      <th></th>\n",
       "      <th>07-03</th>\n",
       "      <th>12:17:20.473</th>\n",
       "      <th>1297</th>\n",
       "      <th>1449</th>\n",
       "      <th>I</th>\n",
       "      <th>liblog</th>\n",
       "      <th>6</th>\n",
       "    </tr>\n",
       "  </thead>\n",
       "  <tbody>\n",
       "    <tr>\n",
       "      <th>0</th>\n",
       "      <td>07-03</td>\n",
       "      <td>12:17:20.589</td>\n",
       "      <td>1297</td>\n",
       "      <td>2009</td>\n",
       "      <td>E</td>\n",
       "      <td>PackageManager</td>\n",
       "      <td>queryIntentServicesInternal callingUid = 1000;...</td>\n",
       "    </tr>\n",
       "  </tbody>\n",
       "</table>\n",
       "</div>"
      ],
      "text/plain": [
       "   07-03  12:17:20.473  1297  1449  I         liblog   \\\n",
       "0  07-03  12:17:20.589  1297  2009  E  PackageManager   \n",
       "\n",
       "                                                   6  \n",
       "0  queryIntentServicesInternal callingUid = 1000;...  "
      ]
     },
     "execution_count": 67,
     "metadata": {},
     "output_type": "execute_result"
    }
   ],
   "source": [
    "test"
   ]
  },
  {
   "cell_type": "code",
   "execution_count": 68,
   "metadata": {},
   "outputs": [
    {
     "ename": "ParserError",
     "evalue": "Error tokenizing data. C error: Calling read(nbytes) on source failed. Try engine='python'.",
     "output_type": "error",
     "traceback": [
      "\u001b[0;31m---------------------------------------------------------------------------\u001b[0m",
      "\u001b[0;31mParserError\u001b[0m                               Traceback (most recent call last)",
      "Cell \u001b[0;32mIn[68], line 3\u001b[0m\n\u001b[1;32m      1\u001b[0m \u001b[39mfor\u001b[39;00m i \u001b[39min\u001b[39;00m \u001b[39mrange\u001b[39m(len_csv):\n\u001b[1;32m      2\u001b[0m     \u001b[39mif\u001b[39;00m value\u001b[39m.\u001b[39miloc[i, \u001b[39m4\u001b[39m] \u001b[39m==\u001b[39m \u001b[39m'\u001b[39m\u001b[39mE\u001b[39m\u001b[39m'\u001b[39m:\n\u001b[0;32m----> 3\u001b[0m         new_value \u001b[39m=\u001b[39m pd\u001b[39m.\u001b[39;49mread_csv(\u001b[39m'\u001b[39;49m\u001b[39m/Users/tyler/Desktop/Development/smart/finalCSV.csv\u001b[39;49m\u001b[39m'\u001b[39;49m, skiprows\u001b[39m=\u001b[39;49mi, nrows\u001b[39m=\u001b[39;49m\u001b[39m1\u001b[39;49m)\n\u001b[1;32m      4\u001b[0m         new_value\u001b[39m.\u001b[39mto_csv(\u001b[39m'\u001b[39m\u001b[39m/Users/tyler/Desktop/Development/smart/emergency.csv\u001b[39m\u001b[39m'\u001b[39m, mode\u001b[39m=\u001b[39m\u001b[39m'\u001b[39m\u001b[39ma\u001b[39m\u001b[39m'\u001b[39m, header\u001b[39m=\u001b[39m\u001b[39mFalse\u001b[39;00m, index\u001b[39m=\u001b[39m\u001b[39mFalse\u001b[39;00m)\n",
      "File \u001b[0;32m~/miniconda3/envs/smart/lib/python3.10/site-packages/pandas/util/_decorators.py:211\u001b[0m, in \u001b[0;36mdeprecate_kwarg.<locals>._deprecate_kwarg.<locals>.wrapper\u001b[0;34m(*args, **kwargs)\u001b[0m\n\u001b[1;32m    209\u001b[0m     \u001b[39melse\u001b[39;00m:\n\u001b[1;32m    210\u001b[0m         kwargs[new_arg_name] \u001b[39m=\u001b[39m new_arg_value\n\u001b[0;32m--> 211\u001b[0m \u001b[39mreturn\u001b[39;00m func(\u001b[39m*\u001b[39;49margs, \u001b[39m*\u001b[39;49m\u001b[39m*\u001b[39;49mkwargs)\n",
      "File \u001b[0;32m~/miniconda3/envs/smart/lib/python3.10/site-packages/pandas/util/_decorators.py:331\u001b[0m, in \u001b[0;36mdeprecate_nonkeyword_arguments.<locals>.decorate.<locals>.wrapper\u001b[0;34m(*args, **kwargs)\u001b[0m\n\u001b[1;32m    325\u001b[0m \u001b[39mif\u001b[39;00m \u001b[39mlen\u001b[39m(args) \u001b[39m>\u001b[39m num_allow_args:\n\u001b[1;32m    326\u001b[0m     warnings\u001b[39m.\u001b[39mwarn(\n\u001b[1;32m    327\u001b[0m         msg\u001b[39m.\u001b[39mformat(arguments\u001b[39m=\u001b[39m_format_argument_list(allow_args)),\n\u001b[1;32m    328\u001b[0m         \u001b[39mFutureWarning\u001b[39;00m,\n\u001b[1;32m    329\u001b[0m         stacklevel\u001b[39m=\u001b[39mfind_stack_level(),\n\u001b[1;32m    330\u001b[0m     )\n\u001b[0;32m--> 331\u001b[0m \u001b[39mreturn\u001b[39;00m func(\u001b[39m*\u001b[39;49margs, \u001b[39m*\u001b[39;49m\u001b[39m*\u001b[39;49mkwargs)\n",
      "File \u001b[0;32m~/miniconda3/envs/smart/lib/python3.10/site-packages/pandas/io/parsers/readers.py:950\u001b[0m, in \u001b[0;36mread_csv\u001b[0;34m(filepath_or_buffer, sep, delimiter, header, names, index_col, usecols, squeeze, prefix, mangle_dupe_cols, dtype, engine, converters, true_values, false_values, skipinitialspace, skiprows, skipfooter, nrows, na_values, keep_default_na, na_filter, verbose, skip_blank_lines, parse_dates, infer_datetime_format, keep_date_col, date_parser, dayfirst, cache_dates, iterator, chunksize, compression, thousands, decimal, lineterminator, quotechar, quoting, doublequote, escapechar, comment, encoding, encoding_errors, dialect, error_bad_lines, warn_bad_lines, on_bad_lines, delim_whitespace, low_memory, memory_map, float_precision, storage_options)\u001b[0m\n\u001b[1;32m    935\u001b[0m kwds_defaults \u001b[39m=\u001b[39m _refine_defaults_read(\n\u001b[1;32m    936\u001b[0m     dialect,\n\u001b[1;32m    937\u001b[0m     delimiter,\n\u001b[0;32m   (...)\u001b[0m\n\u001b[1;32m    946\u001b[0m     defaults\u001b[39m=\u001b[39m{\u001b[39m\"\u001b[39m\u001b[39mdelimiter\u001b[39m\u001b[39m\"\u001b[39m: \u001b[39m\"\u001b[39m\u001b[39m,\u001b[39m\u001b[39m\"\u001b[39m},\n\u001b[1;32m    947\u001b[0m )\n\u001b[1;32m    948\u001b[0m kwds\u001b[39m.\u001b[39mupdate(kwds_defaults)\n\u001b[0;32m--> 950\u001b[0m \u001b[39mreturn\u001b[39;00m _read(filepath_or_buffer, kwds)\n",
      "File \u001b[0;32m~/miniconda3/envs/smart/lib/python3.10/site-packages/pandas/io/parsers/readers.py:605\u001b[0m, in \u001b[0;36m_read\u001b[0;34m(filepath_or_buffer, kwds)\u001b[0m\n\u001b[1;32m    602\u001b[0m _validate_names(kwds\u001b[39m.\u001b[39mget(\u001b[39m\"\u001b[39m\u001b[39mnames\u001b[39m\u001b[39m\"\u001b[39m, \u001b[39mNone\u001b[39;00m))\n\u001b[1;32m    604\u001b[0m \u001b[39m# Create the parser.\u001b[39;00m\n\u001b[0;32m--> 605\u001b[0m parser \u001b[39m=\u001b[39m TextFileReader(filepath_or_buffer, \u001b[39m*\u001b[39;49m\u001b[39m*\u001b[39;49mkwds)\n\u001b[1;32m    607\u001b[0m \u001b[39mif\u001b[39;00m chunksize \u001b[39mor\u001b[39;00m iterator:\n\u001b[1;32m    608\u001b[0m     \u001b[39mreturn\u001b[39;00m parser\n",
      "File \u001b[0;32m~/miniconda3/envs/smart/lib/python3.10/site-packages/pandas/io/parsers/readers.py:1442\u001b[0m, in \u001b[0;36mTextFileReader.__init__\u001b[0;34m(self, f, engine, **kwds)\u001b[0m\n\u001b[1;32m   1439\u001b[0m     \u001b[39mself\u001b[39m\u001b[39m.\u001b[39moptions[\u001b[39m\"\u001b[39m\u001b[39mhas_index_names\u001b[39m\u001b[39m\"\u001b[39m] \u001b[39m=\u001b[39m kwds[\u001b[39m\"\u001b[39m\u001b[39mhas_index_names\u001b[39m\u001b[39m\"\u001b[39m]\n\u001b[1;32m   1441\u001b[0m \u001b[39mself\u001b[39m\u001b[39m.\u001b[39mhandles: IOHandles \u001b[39m|\u001b[39m \u001b[39mNone\u001b[39;00m \u001b[39m=\u001b[39m \u001b[39mNone\u001b[39;00m\n\u001b[0;32m-> 1442\u001b[0m \u001b[39mself\u001b[39m\u001b[39m.\u001b[39m_engine \u001b[39m=\u001b[39m \u001b[39mself\u001b[39;49m\u001b[39m.\u001b[39;49m_make_engine(f, \u001b[39mself\u001b[39;49m\u001b[39m.\u001b[39;49mengine)\n",
      "File \u001b[0;32m~/miniconda3/envs/smart/lib/python3.10/site-packages/pandas/io/parsers/readers.py:1753\u001b[0m, in \u001b[0;36mTextFileReader._make_engine\u001b[0;34m(self, f, engine)\u001b[0m\n\u001b[1;32m   1750\u001b[0m     \u001b[39mraise\u001b[39;00m \u001b[39mValueError\u001b[39;00m(msg)\n\u001b[1;32m   1752\u001b[0m \u001b[39mtry\u001b[39;00m:\n\u001b[0;32m-> 1753\u001b[0m     \u001b[39mreturn\u001b[39;00m mapping[engine](f, \u001b[39m*\u001b[39;49m\u001b[39m*\u001b[39;49m\u001b[39mself\u001b[39;49m\u001b[39m.\u001b[39;49moptions)\n\u001b[1;32m   1754\u001b[0m \u001b[39mexcept\u001b[39;00m \u001b[39mException\u001b[39;00m:\n\u001b[1;32m   1755\u001b[0m     \u001b[39mif\u001b[39;00m \u001b[39mself\u001b[39m\u001b[39m.\u001b[39mhandles \u001b[39mis\u001b[39;00m \u001b[39mnot\u001b[39;00m \u001b[39mNone\u001b[39;00m:\n",
      "File \u001b[0;32m~/miniconda3/envs/smart/lib/python3.10/site-packages/pandas/io/parsers/c_parser_wrapper.py:79\u001b[0m, in \u001b[0;36mCParserWrapper.__init__\u001b[0;34m(self, src, **kwds)\u001b[0m\n\u001b[1;32m     76\u001b[0m     kwds\u001b[39m.\u001b[39mpop(key, \u001b[39mNone\u001b[39;00m)\n\u001b[1;32m     78\u001b[0m kwds[\u001b[39m\"\u001b[39m\u001b[39mdtype\u001b[39m\u001b[39m\"\u001b[39m] \u001b[39m=\u001b[39m ensure_dtype_objs(kwds\u001b[39m.\u001b[39mget(\u001b[39m\"\u001b[39m\u001b[39mdtype\u001b[39m\u001b[39m\"\u001b[39m, \u001b[39mNone\u001b[39;00m))\n\u001b[0;32m---> 79\u001b[0m \u001b[39mself\u001b[39m\u001b[39m.\u001b[39m_reader \u001b[39m=\u001b[39m parsers\u001b[39m.\u001b[39;49mTextReader(src, \u001b[39m*\u001b[39;49m\u001b[39m*\u001b[39;49mkwds)\n\u001b[1;32m     81\u001b[0m \u001b[39mself\u001b[39m\u001b[39m.\u001b[39munnamed_cols \u001b[39m=\u001b[39m \u001b[39mself\u001b[39m\u001b[39m.\u001b[39m_reader\u001b[39m.\u001b[39munnamed_cols\n\u001b[1;32m     83\u001b[0m \u001b[39m# error: Cannot determine type of 'names'\u001b[39;00m\n",
      "File \u001b[0;32m~/miniconda3/envs/smart/lib/python3.10/site-packages/pandas/_libs/parsers.pyx:547\u001b[0m, in \u001b[0;36mpandas._libs.parsers.TextReader.__cinit__\u001b[0;34m()\u001b[0m\n",
      "File \u001b[0;32m~/miniconda3/envs/smart/lib/python3.10/site-packages/pandas/_libs/parsers.pyx:636\u001b[0m, in \u001b[0;36mpandas._libs.parsers.TextReader._get_header\u001b[0;34m()\u001b[0m\n",
      "File \u001b[0;32m~/miniconda3/envs/smart/lib/python3.10/site-packages/pandas/_libs/parsers.pyx:852\u001b[0m, in \u001b[0;36mpandas._libs.parsers.TextReader._tokenize_rows\u001b[0;34m()\u001b[0m\n",
      "File \u001b[0;32m~/miniconda3/envs/smart/lib/python3.10/site-packages/pandas/_libs/parsers.pyx:1973\u001b[0m, in \u001b[0;36mpandas._libs.parsers.raise_parser_error\u001b[0;34m()\u001b[0m\n",
      "\u001b[0;31mParserError\u001b[0m: Error tokenizing data. C error: Calling read(nbytes) on source failed. Try engine='python'."
     ]
    }
   ],
   "source": [
    "for i in range(len_csv):\n",
    "    if value.iloc[i, 4] == 'E':\n",
    "        new_value = pd.read_csv('/Users/tyler/Desktop/Development/smart/finalCSV.csv', skiprows=i, nrows=1)\n",
    "        new_value.to_csv('/Users/tyler/Desktop/Development/smart/emergency.csv', mode='a', header=False, index=False)"
   ]
  }
 ],
 "metadata": {
  "kernelspec": {
   "display_name": "smart",
   "language": "python",
   "name": "python3"
  },
  "language_info": {
   "codemirror_mode": {
    "name": "ipython",
    "version": 3
   },
   "file_extension": ".py",
   "mimetype": "text/x-python",
   "name": "python",
   "nbconvert_exporter": "python",
   "pygments_lexer": "ipython3",
   "version": "3.10.11"
  },
  "orig_nbformat": 4
 },
 "nbformat": 4,
 "nbformat_minor": 2
}
